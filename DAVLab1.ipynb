{
  "nbformat": 4,
  "nbformat_minor": 0,
  "metadata": {
    "colab": {
      "provenance": []
    },
    "kernelspec": {
      "name": "ir",
      "display_name": "R"
    },
    "language_info": {
      "name": "R"
    }
  },
  "cells": [
    {
      "cell_type": "markdown",
      "source": [
        "**Assignment 1** Data Analytics and Visualization"
      ],
      "metadata": {
        "id": "yGoOm3wq7op4"
      }
    },
    {
      "cell_type": "markdown",
      "source": [
        "Siddharth Nimbalkar (202211057)"
      ],
      "metadata": {
        "id": "KMpYLdAj76_u"
      }
    },
    {
      "cell_type": "markdown",
      "source": [
        "1. Importing the library and the dataset"
      ],
      "metadata": {
        "id": "Yu-LW9tf9xlP"
      }
    },
    {
      "cell_type": "code",
      "source": [
        "library(dplyr)\n",
        "#Siddharth Nimbalkar(202211057)\n",
        "data <- read.csv(\"State Wise Udyam Registration Details.csv\")"
      ],
      "metadata": {
        "colab": {
          "base_uri": "https://localhost:8080/"
        },
        "id": "11uNLxO-9sK_",
        "outputId": "b00b5aae-ff2b-458a-9bb1-4080e52687ef"
      },
      "execution_count": null,
      "outputs": [
        {
          "output_type": "stream",
          "name": "stderr",
          "text": [
            "\n",
            "Attaching package: ‘dplyr’\n",
            "\n",
            "\n",
            "The following objects are masked from ‘package:stats’:\n",
            "\n",
            "    filter, lag\n",
            "\n",
            "\n",
            "The following objects are masked from ‘package:base’:\n",
            "\n",
            "    intersect, setdiff, setequal, union\n",
            "\n",
            "\n"
          ]
        }
      ]
    },
    {
      "cell_type": "markdown",
      "source": [
        "2. Printing the data provided."
      ],
      "metadata": {
        "id": "JepJeecQ-JNi"
      }
    },
    {
      "cell_type": "code",
      "source": [
        "options(width = 1000)\n",
        "options(dplyr.width = Inf) #to display all columns in single row"
      ],
      "metadata": {
        "id": "IeUaqkA6PVtT"
      },
      "execution_count": null,
      "outputs": []
    },
    {
      "cell_type": "code",
      "source": [
        "cat(\"The Data in the .csv file provided is: \")\n",
        "cat(\"\\n\")\n",
        "print(data)\n",
        "cat(\"\\n\")\n",
        "#Siddharth Nimbalkar(202211057)"
      ],
      "metadata": {
        "colab": {
          "base_uri": "https://localhost:8080/"
        },
        "id": "QQp7KjuD918d",
        "outputId": "97bce950-a8d3-4e37-c3e1-9cde3c989e48"
      },
      "execution_count": null,
      "outputs": [
        {
          "output_type": "stream",
          "name": "stdout",
          "text": [
            "The Data in the .csv file provided is: \n",
            "    S..No.                                State.UT.Name       Micro    Small Medium Total.Udyam  IMEs..UAP. Total.MSMEs\n",
            "1        1                               ANDHRA PRADESH   13,68,264   25,032  1,994   13,95,290   15,59,627   29,54,917\n",
            "2        2                            ARUNACHAL PRADESH      17,554      404     35      17,993      14,489      32,482\n",
            "3        3                                        ASSAM    6,71,516    9,973    876    6,82,365    3,23,192   10,05,557\n",
            "4        4                                        BIHAR   13,39,613   19,412  1,032   13,60,057   18,43,822   32,03,879\n",
            "5        5                                 CHHATTISGARH    4,74,447   12,107  1,292    4,87,846    5,38,434   10,26,280\n",
            "6        6                                          GOA      64,610    1,724    159      66,493      36,855    1,03,348\n",
            "7        7                                      GUJARAT   21,72,586   83,648  8,557   22,64,791   11,19,722   33,84,513\n",
            "8        8                                      HARYANA   10,10,348   34,544  3,317   10,48,209    4,47,775   14,95,984\n",
            "9        9                             HIMACHAL PRADESH    1,95,010    3,952    448    1,99,410      56,452    2,55,862\n",
            "10      10                                    JHARKHAND    5,51,235    9,029    664    5,60,928    6,39,832   12,00,760\n",
            "11      11                                    KARNATAKA   18,51,078   46,800  4,396   19,02,274   20,28,280   39,30,554\n",
            "12      12                                       KERALA    7,72,050   19,164  1,472    7,92,686    6,21,491   14,14,177\n",
            "13      13                               MADHYA PRADESH   16,05,213   30,122  2,282   16,37,617   21,20,324   37,57,941\n",
            "14      14                                  MAHARASHTRA   52,32,853 1,07,331 12,373   53,52,557   23,52,756   77,05,313\n",
            "15      15                                      MANIPUR      87,370      680     38      88,088      39,816    1,27,904\n",
            "16      16                                    MEGHALAYA      29,804      506     61      30,371       9,711      40,082\n",
            "17      17                                      MIZORAM      28,275      207     11      28,493      13,325      41,818\n",
            "18      18                                     NAGALAND      30,852      247     17      31,116      21,429      52,545\n",
            "19      19                                       ODISHA    9,69,310   14,951  1,100    9,85,361    8,72,127   18,57,488\n",
            "20      20                                       PUNJAB   12,00,763   27,319  2,464   12,30,546    4,22,369   16,52,915\n",
            "21      21                                    RAJASTHAN   22,87,048   42,910  3,440   23,33,398   10,14,376   33,47,774\n",
            "22      22                                       SIKKIM      13,620      201     19      13,840      10,683      24,523\n",
            "23      23                                   TAMIL NADU   31,20,299   60,005  5,335   31,85,639   16,10,631   47,96,270\n",
            "24      24                                    TELANGANA   11,61,511   28,172  3,151   11,92,834   10,68,839   22,61,673\n",
            "25      25                                      TRIPURA      76,238    1,003     73      77,314    1,76,643    2,53,957\n",
            "26      26                                UTTAR PRADESH   31,38,759   62,893  4,860   32,06,512   30,71,519   62,78,031\n",
            "27      27                                  UTTARAKHAND    3,15,687    6,361    542    3,22,590    1,62,621    4,85,211\n",
            "28      28                                  WEST BENGAL   14,32,798   36,587  3,300   14,72,685   27,44,051   42,16,736\n",
            "29      29                  ANDAMAN AND NICOBAR ISLANDS      14,447      276     14      14,737       2,928      17,665\n",
            "30      30                                   CHANDIGARH      46,737    1,991    208      48,936      13,326      62,262\n",
            "31      31                                        DELHI    7,37,333   41,243  5,015    7,83,591    3,01,952   10,85,543\n",
            "32      32                            JAMMU AND KASHMIR    4,78,398    5,244    353    4,83,995    2,07,644    6,91,639\n",
            "33      33                                       LADAKH      12,023      146      4      12,173       4,862      17,035\n",
            "34      34                                  LAKSHADWEEP       1,155        1      0       1,156         837       1,993\n",
            "35      35                                   PUDUCHERRY      46,367      960    128      47,455      38,948      86,403\n",
            "36      36 THE DADRA AND NAGAR HAVELI AND DAMAN AND DIU      21,147    1,285    237      22,669       5,341      28,010\n",
            "37 Total:-                                              3,25,76,318 7,36,430 69,267 3,33,82,015 2,55,17,029 5,88,99,044\n",
            "\n"
          ]
        }
      ]
    },
    {
      "cell_type": "markdown",
      "source": [
        "3. Data after Removing the Last Tuple with 'Total' field."
      ],
      "metadata": {
        "id": "svzRJ-3G_U0q"
      }
    },
    {
      "cell_type": "code",
      "source": [
        "data <- data[-nrow(data), ]\n",
        "\n",
        "cat(\"\\n\")\n",
        "cat(\"The Data after removing the last Total tuple\")\n",
        "cat(\"\\n\")\n",
        "\n",
        "print(data)\n",
        "cat(\"\\n\")\n",
        "#Siddharth Nimbalkar(202211057)"
      ],
      "metadata": {
        "colab": {
          "base_uri": "https://localhost:8080/"
        },
        "id": "X3buGhrv_GCx",
        "outputId": "ab47028a-8724-40a9-da48-1aa5c71b4241"
      },
      "execution_count": null,
      "outputs": [
        {
          "output_type": "stream",
          "name": "stdout",
          "text": [
            "\n",
            "The Data after removing the last Total tuple\n",
            "   S..No.                                State.UT.Name     Micro    Small Medium Total.Udyam IMEs..UAP. Total.MSMEs\n",
            "1       1                               ANDHRA PRADESH 13,68,264   25,032  1,994   13,95,290  15,59,627   29,54,917\n",
            "2       2                            ARUNACHAL PRADESH    17,554      404     35      17,993     14,489      32,482\n",
            "3       3                                        ASSAM  6,71,516    9,973    876    6,82,365   3,23,192   10,05,557\n",
            "4       4                                        BIHAR 13,39,613   19,412  1,032   13,60,057  18,43,822   32,03,879\n",
            "5       5                                 CHHATTISGARH  4,74,447   12,107  1,292    4,87,846   5,38,434   10,26,280\n",
            "6       6                                          GOA    64,610    1,724    159      66,493     36,855    1,03,348\n",
            "7       7                                      GUJARAT 21,72,586   83,648  8,557   22,64,791  11,19,722   33,84,513\n",
            "8       8                                      HARYANA 10,10,348   34,544  3,317   10,48,209   4,47,775   14,95,984\n",
            "9       9                             HIMACHAL PRADESH  1,95,010    3,952    448    1,99,410     56,452    2,55,862\n",
            "10     10                                    JHARKHAND  5,51,235    9,029    664    5,60,928   6,39,832   12,00,760\n",
            "11     11                                    KARNATAKA 18,51,078   46,800  4,396   19,02,274  20,28,280   39,30,554\n",
            "12     12                                       KERALA  7,72,050   19,164  1,472    7,92,686   6,21,491   14,14,177\n",
            "13     13                               MADHYA PRADESH 16,05,213   30,122  2,282   16,37,617  21,20,324   37,57,941\n",
            "14     14                                  MAHARASHTRA 52,32,853 1,07,331 12,373   53,52,557  23,52,756   77,05,313\n",
            "15     15                                      MANIPUR    87,370      680     38      88,088     39,816    1,27,904\n",
            "16     16                                    MEGHALAYA    29,804      506     61      30,371      9,711      40,082\n",
            "17     17                                      MIZORAM    28,275      207     11      28,493     13,325      41,818\n",
            "18     18                                     NAGALAND    30,852      247     17      31,116     21,429      52,545\n",
            "19     19                                       ODISHA  9,69,310   14,951  1,100    9,85,361   8,72,127   18,57,488\n",
            "20     20                                       PUNJAB 12,00,763   27,319  2,464   12,30,546   4,22,369   16,52,915\n",
            "21     21                                    RAJASTHAN 22,87,048   42,910  3,440   23,33,398  10,14,376   33,47,774\n",
            "22     22                                       SIKKIM    13,620      201     19      13,840     10,683      24,523\n",
            "23     23                                   TAMIL NADU 31,20,299   60,005  5,335   31,85,639  16,10,631   47,96,270\n",
            "24     24                                    TELANGANA 11,61,511   28,172  3,151   11,92,834  10,68,839   22,61,673\n",
            "25     25                                      TRIPURA    76,238    1,003     73      77,314   1,76,643    2,53,957\n",
            "26     26                                UTTAR PRADESH 31,38,759   62,893  4,860   32,06,512  30,71,519   62,78,031\n",
            "27     27                                  UTTARAKHAND  3,15,687    6,361    542    3,22,590   1,62,621    4,85,211\n",
            "28     28                                  WEST BENGAL 14,32,798   36,587  3,300   14,72,685  27,44,051   42,16,736\n",
            "29     29                  ANDAMAN AND NICOBAR ISLANDS    14,447      276     14      14,737      2,928      17,665\n",
            "30     30                                   CHANDIGARH    46,737    1,991    208      48,936     13,326      62,262\n",
            "31     31                                        DELHI  7,37,333   41,243  5,015    7,83,591   3,01,952   10,85,543\n",
            "32     32                            JAMMU AND KASHMIR  4,78,398    5,244    353    4,83,995   2,07,644    6,91,639\n",
            "33     33                                       LADAKH    12,023      146      4      12,173      4,862      17,035\n",
            "34     34                                  LAKSHADWEEP     1,155        1      0       1,156        837       1,993\n",
            "35     35                                   PUDUCHERRY    46,367      960    128      47,455     38,948      86,403\n",
            "36     36 THE DADRA AND NAGAR HAVELI AND DAMAN AND DIU    21,147    1,285    237      22,669      5,341      28,010\n",
            "\n"
          ]
        }
      ]
    },
    {
      "cell_type": "markdown",
      "source": [
        "4. Printing the Data Types of the Data."
      ],
      "metadata": {
        "id": "WfO5HSBF-acy"
      }
    },
    {
      "cell_type": "code",
      "source": [
        "# Data types\n",
        "str(data)\n",
        "cat(\"\\n\")\n",
        "#Siddharth Nimbalkar(202211057)\n"
      ],
      "metadata": {
        "colab": {
          "base_uri": "https://localhost:8080/"
        },
        "id": "wgCOkMnI_jLA",
        "outputId": "c628e088-9417-44b6-a00f-3e3bae419116"
      },
      "execution_count": null,
      "outputs": [
        {
          "output_type": "stream",
          "name": "stdout",
          "text": [
            "'data.frame':\t36 obs. of  8 variables:\n",
            " $ S..No.       : chr  \"1\" \"2\" \"3\" \"4\" ...\n",
            " $ State.UT.Name: chr  \"ANDHRA PRADESH\" \"ARUNACHAL PRADESH\" \"ASSAM\" \"BIHAR\" ...\n",
            " $ Micro        : chr  \"13,68,264\" \"17,554\" \"6,71,516\" \"13,39,613\" ...\n",
            " $ Small        : chr  \"25,032\" \"404\" \"9,973\" \"19,412\" ...\n",
            " $ Medium       : chr  \"1,994\" \"35\" \"876\" \"1,032\" ...\n",
            " $ Total.Udyam  : chr  \"13,95,290\" \"17,993\" \"6,82,365\" \"13,60,057\" ...\n",
            " $ IMEs..UAP.   : chr  \"15,59,627\" \"14,489\" \"3,23,192\" \"18,43,822\" ...\n",
            " $ Total.MSMEs  : chr  \"29,54,917\" \"32,482\" \"10,05,557\" \"32,03,879\" ...\n",
            "\n"
          ]
        }
      ]
    },
    {
      "cell_type": "markdown",
      "source": [
        "5. Updating the datatypes"
      ],
      "metadata": {
        "id": "M0mPQiZk_pxF"
      }
    },
    {
      "cell_type": "code",
      "source": [
        "# Convert columns to integer after removing commas\n",
        "columns <- c(\"Micro\", \"Small\", \"Medium\", \"Total.Udyam\", \"IMEs..UAP.\", \"Total.MSMEs\")\n",
        "data[columns] <- lapply(data[columns], function(x) as.integer(gsub(\",\", \"\", as.character(x))))\n",
        "cat(\"\\n\")\n",
        "str(data)\n",
        "cat(\"\\n\")\n",
        "#Siddharth Nimbalkar(202211057)"
      ],
      "metadata": {
        "colab": {
          "base_uri": "https://localhost:8080/"
        },
        "id": "ENhHpNCV_pNj",
        "outputId": "c6d2b5eb-e1df-440d-c63a-59b896fa7f66"
      },
      "execution_count": null,
      "outputs": [
        {
          "output_type": "stream",
          "name": "stdout",
          "text": [
            "\n",
            "'data.frame':\t36 obs. of  8 variables:\n",
            " $ S..No.       : chr  \"1\" \"2\" \"3\" \"4\" ...\n",
            " $ State.UT.Name: chr  \"ANDHRA PRADESH\" \"ARUNACHAL PRADESH\" \"ASSAM\" \"BIHAR\" ...\n",
            " $ Micro        : int  1368264 17554 671516 1339613 474447 64610 2172586 1010348 195010 551235 ...\n",
            " $ Small        : int  25032 404 9973 19412 12107 1724 83648 34544 3952 9029 ...\n",
            " $ Medium       : int  1994 35 876 1032 1292 159 8557 3317 448 664 ...\n",
            " $ Total.Udyam  : int  1395290 17993 682365 1360057 487846 66493 2264791 1048209 199410 560928 ...\n",
            " $ IMEs..UAP.   : int  1559627 14489 323192 1843822 538434 36855 1119722 447775 56452 639832 ...\n",
            " $ Total.MSMEs  : int  2954917 32482 1005557 3203879 1026280 103348 3384513 1495984 255862 1200760 ...\n",
            "\n"
          ]
        }
      ]
    },
    {
      "cell_type": "markdown",
      "source": [
        "6. Functions to calculate Mean, Median, Variance and Standard Deviation"
      ],
      "metadata": {
        "id": "0BZyfUbG_5aD"
      }
    },
    {
      "cell_type": "code",
      "source": [
        "# Statistical functions\n",
        "calculate_mean <- function(column)\n",
        "{\n",
        "\n",
        "  total <- 0\n",
        "  n <- length(column)\n",
        "\n",
        "  for (value in column)\n",
        "  {\n",
        "    total <- total + value\n",
        "  }\n",
        "\n",
        "  return(total / n)\n",
        "}\n",
        "\n",
        "calculate_median <- function(column)\n",
        "{\n",
        "  sorted_col <- sort(column)\n",
        "  n <- length(sorted_col)\n",
        "\n",
        "  if (n %% 2 == 0)\n",
        "  {\n",
        "    return((sorted_col[n / 2] + sorted_col[n / 2 + 1]) / 2)\n",
        "  }\n",
        "  else\n",
        "  {\n",
        "    return(sorted_col[(n + 1) / 2])\n",
        "  }\n",
        "}\n",
        "\n",
        "calculate_variance <- function(column, mean_val) {\n",
        "  return(sum((column - mean_val)^2) / length(column))\n",
        "}\n",
        "\n",
        "calculate_std_dev <- function(variance_val) {\n",
        "  return(sqrt(variance_val))\n",
        "}\n"
      ],
      "metadata": {
        "id": "UXMoTTG2_30_"
      },
      "execution_count": null,
      "outputs": []
    },
    {
      "cell_type": "markdown",
      "source": [
        "7. Descriptive Statistics for DataFrame"
      ],
      "metadata": {
        "id": "yUYxJsM3AS8Q"
      }
    },
    {
      "cell_type": "code",
      "source": [
        "# Compute descriptive statistics\n",
        "stats <- list()\n",
        "for (col in columns) {\n",
        "  col_data <- data[[col]]\n",
        "  mean_val <- calculate_mean(col_data)\n",
        "  median_val <- calculate_median(col_data)\n",
        "  variance_val <- calculate_variance(col_data, mean_val)\n",
        "  std_dev_val <- calculate_std_dev(variance_val)\n",
        "  stats[[col]] <- list(\n",
        "    Mean = mean_val,\n",
        "    Median = median_val,\n",
        "    Variance = variance_val,\n",
        "    Standard.Deviation = std_dev_val\n",
        "  )\n",
        "}"
      ],
      "metadata": {
        "id": "lI9ofzCGAQdb"
      },
      "execution_count": null,
      "outputs": []
    },
    {
      "cell_type": "code",
      "source": [
        "cat(\"Descriptive Statistics:\\n\")\n",
        "# Create DataFrame for descriptive stats\n",
        "stats_df <- do.call(rbind, lapply(stats, function(x) as.data.frame(t(x))))\n",
        "print(stats_df)\n",
        "#Siddharth Nimbalkar(202211057)"
      ],
      "metadata": {
        "colab": {
          "base_uri": "https://localhost:8080/"
        },
        "id": "ZOUw0wc_Auwz",
        "outputId": "2d4a13fb-5b62-477c-ae58-56eae5d13c94"
      },
      "execution_count": null,
      "outputs": [
        {
          "output_type": "stream",
          "name": "stdout",
          "text": [
            "Descriptive Statistics:\n",
            "                Mean   Median     Variance Standard.Deviation\n",
            "Micro       904897.7 514816.5 1.289708e+12            1135653\n",
            "Small       20456.39     9501    659363225           25678.07\n",
            "Medium      1924.083      770      7127687           2669.773\n",
            "Total.Udyam 927278.2   524387 1.351047e+12            1162346\n",
            "IMEs..UAP.  708806.4   312572  7.61232e+11           872486.1\n",
            "Total.MSMEs  1636085  1015918 3.765233e+12            1940421\n"
          ]
        }
      ]
    },
    {
      "cell_type": "markdown",
      "source": [
        "8. Function to compute Correlation, Correlation Matrix and Display the Correlation Matrix"
      ],
      "metadata": {
        "id": "0G_1qspqA_26"
      }
    },
    {
      "cell_type": "code",
      "source": [
        "# Function to calculate correlation\n",
        "calculate_correlation <- function(x, y) {\n",
        "  mean_x <- mean(x)\n",
        "  mean_y <- mean(y)\n",
        "  numerator <- sum((x - mean_x) * (y - mean_y))\n",
        "  denominator <- sqrt(sum((x - mean_x)^2) * sum((y - mean_y)^2))\n",
        "  return(numerator / denominator)\n",
        "}\n",
        "# Compute correlation matrix\n",
        "correlation_matrix <- matrix(ncol = length(columns), nrow = length(columns))\n",
        "colnames(correlation_matrix) <- columns\n",
        "rownames(correlation_matrix) <- columns\n",
        "\n",
        "for (col1 in columns) {\n",
        "  for (col2 in columns) {\n",
        "    correlation_matrix[col1, col2] <- calculate_correlation(data[[col1]], data[[col2]])\n",
        "  }\n",
        "}\n",
        "\n",
        "cat(\"\\nCorrelation Matrix for the given Data:\\n\")\n",
        "# Display correlation matrix as DataFrame\n",
        "correlation_df <- as.data.frame(correlation_matrix)\n",
        "print(correlation_df)\n",
        "#Siddharth Nimbalkar(202211057)"
      ],
      "metadata": {
        "colab": {
          "base_uri": "https://localhost:8080/"
        },
        "id": "9ly5ALT_A-uM",
        "outputId": "3273e56b-2d18-420c-85cd-613a6a7ab34f"
      },
      "execution_count": null,
      "outputs": [
        {
          "output_type": "stream",
          "name": "stdout",
          "text": [
            "\n",
            "Correlation Matrix for the given Data:\n",
            "                Micro     Small    Medium Total.Udyam IMEs..UAP. Total.MSMEs\n",
            "Micro       1.0000000 0.9437033 0.9067729   0.9999664  0.8156231   0.9657319\n",
            "Small       0.9437033 1.0000000 0.9830991   0.9463814  0.7492771   0.9038019\n",
            "Medium      0.9067729 0.9830991 1.0000000   0.9099646  0.6598417   0.8417741\n",
            "Total.Udyam 0.9999664 0.9463814 0.9099646   1.0000000  0.8149612   0.9654544\n",
            "IMEs..UAP.  0.8156231 0.7492771 0.6598417   0.8149612  1.0000000   0.9378134\n",
            "Total.MSMEs 0.9657319 0.9038019 0.8417741   0.9654544  0.9378134   1.0000000\n"
          ]
        }
      ]
    }
  ]
}